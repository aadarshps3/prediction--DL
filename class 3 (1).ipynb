{
 "cells": [
  {
   "cell_type": "markdown",
   "id": "extra-layer",
   "metadata": {},
   "source": [
    "# 16/03"
   ]
  },
  {
   "cell_type": "markdown",
   "id": "former-learning",
   "metadata": {},
   "source": [
    "P(y/X)={[p(x1/y).p(x2/y)...p(xn/y)].P(y)} /[p(x).P(x1)...p(xn)]"
   ]
  },
  {
   "cell_type": "markdown",
   "id": "distant-breathing",
   "metadata": {},
   "source": [
    "# Naiv bias classifier"
   ]
  },
  {
   "cell_type": "code",
   "execution_count": null,
   "id": "periodic-richards",
   "metadata": {},
   "outputs": [],
   "source": [
    "import sklearn \n",
    "\n",
    "from sklearn.naive_bayes import GaussianNB,BernoulliNB,MultinomialNB\n",
    "\n",
    "import pandas as pd\n",
    "import numpy as np\n",
    "import matplotlib.pyplot as plt "
   ]
  },
  {
   "cell_type": "code",
   "execution_count": null,
   "id": "exterior-discount",
   "metadata": {},
   "outputs": [],
   "source": [
    "models={'gaussian':GaussianNB(),'bernoulli':BernoulliNB(),'multy':MultinomialNB()}\n",
    "\n",
    "from sklearn.datasets import load_wine\n",
    "\n",
    "wine=load_wine()\n",
    "X=wine.data\n",
    "y=wine.target"
   ]
  },
  {
   "cell_type": "code",
   "execution_count": null,
   "id": "agreed-luther",
   "metadata": {},
   "outputs": [],
   "source": [
    "from sklearn.model_selection import cross_val_score\n",
    "\n",
    "for i in models:\n",
    "    mod=models[i]\n",
    "    scores=cross_val_score(mod,X,y,cv=6)\n",
    "    print(i, scores,'=',scores.mean())\n",
    "\n",
    "from sklearn.model_selection import train_test_split\n",
    "\n",
    "xtrain,xtest,ytrain,ytest=train_test_split(X,y,train_size=.7,random_state=1)\n",
    "\n",
    "model=GaussianNB()\n",
    "\n",
    "model.fit(xtrain,ytrain)\n",
    "\n",
    "model.score(xtest,ytest)"
   ]
  },
  {
   "cell_type": "code",
   "execution_count": null,
   "id": "smoking-rebecca",
   "metadata": {},
   "outputs": [],
   "source": [
    "from sklearn.metrics import confusion_matrix \n",
    "\n",
    "y_pred=model.predict(xtest)\n",
    "\n",
    "from mlxtend.plotting import plot_confusion_matrix\n",
    "\n",
    "cf=confusion_matrix(ytest,y_pred)\n",
    "\n",
    "plot_confusion_matrix(cf)"
   ]
  },
  {
   "cell_type": "code",
   "execution_count": null,
   "id": "seeing-humor",
   "metadata": {},
   "outputs": [],
   "source": []
  },
  {
   "cell_type": "markdown",
   "id": "attended-locator",
   "metadata": {},
   "source": [
    "# Q2  __titanic.csv"
   ]
  },
  {
   "cell_type": "code",
   "execution_count": null,
   "id": "fatty-graham",
   "metadata": {},
   "outputs": [],
   "source": [
    "data=pd.read_csv('titanic.csv',usecols=[2,3,4,11])\n",
    "\n",
    "data\n",
    "\n",
    "from sklearn.preprocessing import LabelEncoder\n",
    "label=LabelEncoder()\n",
    "\n",
    "sex_label=label.fit_transform(data['Sex'])\n",
    "data['Sex']=sex_label\n",
    "\n",
    "data=data.interpolate()\n",
    "\n",
    "X=data.drop(['Survived'],1)\n",
    "y=data['Survived']\n",
    "\n",
    "from sklearn.naive_bayes  import GaussianNB,BernoulliNB,MultinomialNB\n",
    "\n",
    "models={'gaussian':GaussianNB(),'bernoulli':BernoulliNB(),'multy':MultinomialNB()}\n",
    "\n",
    "from sklearn.model_selection import cross_val_score\n",
    "\n",
    "for i in models:\n",
    "    mod=models[i]\n",
    "    scores=cross_val_score(mod,X,y,cv=6)\n",
    "    print(i, scores,'=',scores.mean())\n",
    "\n",
    "model=BernoulliNB()\n",
    "\n",
    "from sklearn.model_selection import train_test_split\n",
    "\n",
    "xtrain,xtest,ytrain,ytest=train_test_split(X,y,test_size=.3,random_state=1)\n",
    "\n",
    "model.fit(xtrain,ytrain)\n",
    "\n",
    "model.score(xtest,ytest)"
   ]
  },
  {
   "cell_type": "code",
   "execution_count": null,
   "id": "noticed-newspaper",
   "metadata": {},
   "outputs": [],
   "source": []
  },
  {
   "cell_type": "markdown",
   "id": "conservative-elimination",
   "metadata": {},
   "source": [
    "# Q3__spam.csv"
   ]
  },
  {
   "cell_type": "code",
   "execution_count": null,
   "id": "documentary-precipitation",
   "metadata": {},
   "outputs": [],
   "source": [
    "import sklearn \n",
    "\n",
    "from sklearn.naive_bayes import GaussianNB,BernoulliNB,MultinomialNB\n",
    "\n",
    "import pandas as pd\n",
    "import numpy as np\n",
    "import matplotlib.pyplot as plt "
   ]
  },
  {
   "cell_type": "code",
   "execution_count": null,
   "id": "informed-failure",
   "metadata": {},
   "outputs": [],
   "source": [
    "data=pd.read_csv('spam.csv')"
   ]
  },
  {
   "cell_type": "code",
   "execution_count": null,
   "id": "verified-opening",
   "metadata": {},
   "outputs": [],
   "source": [
    "data"
   ]
  },
  {
   "cell_type": "code",
   "execution_count": null,
   "id": "absolute-minority",
   "metadata": {},
   "outputs": [],
   "source": [
    "X=data['Message']"
   ]
  },
  {
   "cell_type": "code",
   "execution_count": null,
   "id": "unusual-weekend",
   "metadata": {},
   "outputs": [],
   "source": [
    "def ham(d):\n",
    "    if d=='ham':\n",
    "        return 0\n",
    "    else:\n",
    "        return 1\n",
    "\n",
    "y=data['Category'].map(ham)\n",
    "# another way\n",
    "# data['Category'].map(lambda x:0 if x=='ham' else 1 )"
   ]
  },
  {
   "cell_type": "markdown",
   "id": "radical-acrylic",
   "metadata": {},
   "source": [
    "# new method: converting the messages into nums {COUNTVECTORISOR}"
   ]
  },
  {
   "cell_type": "code",
   "execution_count": null,
   "id": "antique-veteran",
   "metadata": {},
   "outputs": [],
   "source": [
    "from sklearn.feature_extraction.text import CountVectorizer\n",
    "\n",
    "cv=CountVectorizer()\n",
    "\n",
    "from sklearn.model_selection import train_test_split\n",
    "xtrain,xtest,ytrain,ytest=train_test_split(X,y,train_size=.7,random_state=1)"
   ]
  },
  {
   "cell_type": "code",
   "execution_count": null,
   "id": "mathematical-cannon",
   "metadata": {},
   "outputs": [],
   "source": [
    "input=cv.fit_transform(xtrain).toarray()  # here we are fitting our input into the function "
   ]
  },
  {
   "cell_type": "code",
   "execution_count": null,
   "id": "super-thong",
   "metadata": {},
   "outputs": [],
   "source": [
    "input.shape"
   ]
  },
  {
   "cell_type": "code",
   "execution_count": null,
   "id": "valuable-grenada",
   "metadata": {},
   "outputs": [],
   "source": [
    "model=GaussianNB()\n",
    "\n",
    "model.fit(input,ytrain)\n",
    "\n",
    "xtest=cv.transform(xtest).toarray()\n",
    "\n",
    "y_pred=model.predict(xtest)\n",
    "from sklearn.metrics import confusion_matrix\n",
    "mat=confusion_matrix(ytest,y_pred)"
   ]
  },
  {
   "cell_type": "code",
   "execution_count": null,
   "id": "assured-brush",
   "metadata": {},
   "outputs": [],
   "source": [
    "mat"
   ]
  },
  {
   "cell_type": "code",
   "execution_count": null,
   "id": "sexual-stylus",
   "metadata": {},
   "outputs": [],
   "source": []
  },
  {
   "cell_type": "code",
   "execution_count": null,
   "id": "current-battery",
   "metadata": {},
   "outputs": [],
   "source": [
    "msg=['hai going to gym,are you going today??',\n",
    "    'get 30% off on shopping,use coupen code 12345']\n",
    "\n",
    "x_test=cv.transform(msg).toarray()  # here we convert \n",
    "x_test\n",
    "\n",
    "model.predict(x_test)"
   ]
  },
  {
   "cell_type": "code",
   "execution_count": null,
   "id": "incorporate-henry",
   "metadata": {},
   "outputs": [],
   "source": []
  },
  {
   "cell_type": "markdown",
   "id": "israeli-content",
   "metadata": {},
   "source": [
    "# 17/03"
   ]
  },
  {
   "cell_type": "markdown",
   "id": "precious-villa",
   "metadata": {},
   "source": [
    "# Support Vector Machine Algorithm (SVM)"
   ]
  },
  {
   "cell_type": "code",
   "execution_count": 1,
   "id": "organizational-external",
   "metadata": {},
   "outputs": [],
   "source": [
    "import sklearn \n",
    "\n",
    "from sklearn.svm import SVC\n",
    "\n",
    "model=SVC()"
   ]
  }
 ],
 "metadata": {
  "kernelspec": {
   "display_name": "Python 3 (ipykernel)",
   "language": "python",
   "name": "python3"
  },
  "language_info": {
   "codemirror_mode": {
    "name": "ipython",
    "version": 3
   },
   "file_extension": ".py",
   "mimetype": "text/x-python",
   "name": "python",
   "nbconvert_exporter": "python",
   "pygments_lexer": "ipython3",
   "version": "3.9.7"
  }
 },
 "nbformat": 4,
 "nbformat_minor": 5
}
